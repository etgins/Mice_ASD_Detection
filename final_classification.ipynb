{
  "nbformat": 4,
  "nbformat_minor": 0,
  "metadata": {
    "colab": {
      "name": "final_classification.ipynb",
      "provenance": [],
      "collapsed_sections": [
        "ayH6q7IXAEJk"
      ],
      "authorship_tag": "ABX9TyOP7kvfgYUIVgVIp6vh0DqB",
      "include_colab_link": true
    },
    "kernelspec": {
      "name": "python3",
      "display_name": "Python 3"
    },
    "language_info": {
      "name": "python"
    },
    "accelerator": "GPU"
  },
  "cells": [
    {
      "cell_type": "markdown",
      "metadata": {
        "id": "view-in-github",
        "colab_type": "text"
      },
      "source": [
        "<a href=\"https://colab.research.google.com/github/etgins/Mice_ASD_Detection/blob/main/final_classification.ipynb\" target=\"_parent\"><img src=\"https://colab.research.google.com/assets/colab-badge.svg\" alt=\"Open In Colab\"/></a>"
      ]
    },
    {
      "cell_type": "markdown",
      "metadata": {
        "id": "Dpc8qmsMKteD"
      },
      "source": [
        "----------------------------------------------\n",
        "Written by Itamar Ginsberg & Alon Schreuer, November 2021\n"
      ]
    },
    {
      "cell_type": "markdown",
      "metadata": {
        "id": "QQaRq9NQCskz"
      },
      "source": [
        "Imports and setup\n",
        "----"
      ]
    },
    {
      "cell_type": "code",
      "metadata": {
        "id": "9tnwBquhK7HB",
        "colab": {
          "base_uri": "https://localhost:8080/"
        },
        "outputId": "60625ab6-1b9c-452a-8295-999a4dc795b0"
      },
      "source": [
        "from google.colab import drive\n",
        "drive.mount('/content/drive')"
      ],
      "execution_count": null,
      "outputs": [
        {
          "output_type": "stream",
          "name": "stdout",
          "text": [
            "Drive already mounted at /content/drive; to attempt to forcibly remount, call drive.mount(\"/content/drive\", force_remount=True).\n"
          ]
        }
      ]
    },
    {
      "cell_type": "code",
      "metadata": {
        "id": "_sFR434NKpxa"
      },
      "source": [
        "import time\n",
        "import os\n",
        "import numpy as np\n",
        "import pandas as pd\n",
        "from xgboost import XGBClassifier\n",
        "import xgboost as xgb\n",
        "import itertools \n",
        "\n",
        "\n",
        "import matplotlib.pyplot as plt\n",
        "from mpl_toolkits.mplot3d import Axes3D\n",
        "from sklearn.model_selection import train_test_split\n",
        "from sklearn.preprocessing import MinMaxScaler, StandardScaler\n",
        "from sklearn.linear_model import Ridge, Lasso\n",
        "\n",
        "from sklearn.model_selection import GridSearchCV"
      ],
      "execution_count": null,
      "outputs": []
    },
    {
      "cell_type": "code",
      "source": [
        "# plot confusion matrix\n",
        "def plot_confusion_matrix(cnf_matrix, numbers_type=[], class_names=[], title='Confusion matrix', cmap=plt.cm.Blues, file_name='confusionmatrix.png'):\n",
        "    \"\"\"\n",
        "    This function prints and plots the confusion matrix.\n",
        "    Normalization can be applied by setting `normalize=True`.\n",
        "    \"\"\"\n",
        "    combined = True\n",
        "    cnf_matrix_normalized = cnf_matrix.astype('float') / cnf_matrix.sum(axis=1)[:, np.newaxis]\n",
        "    # if numbers_type == 'normalized':\n",
        "    #     cnf_matrix_normalized = cnf_matrix.astype('float') / cnf_matrix.sum(axis=1)[:, np.newaxis]\n",
        "    #     print(\"Normalized confusion matrix\")\n",
        "    # else:\n",
        "    #     print('Confusion matrix, without normalization')\n",
        "\n",
        "    # print(cnf_matrix)\n",
        "    plt.figure()\n",
        "    plt.imshow(cnf_matrix, interpolation='nearest', cmap=cmap)\n",
        "    plt.title(title)\n",
        "    plt.colorbar()\n",
        "    tick_marks = np.arange(len(class_names))\n",
        "    plt.xticks(tick_marks, class_names, rotation=45)\n",
        "    plt.yticks(tick_marks, class_names)\n",
        "\n",
        "    thresh = 0.8*cnf_matrix.max() / 1.\n",
        "    for i, j in itertools.product(range(cnf_matrix.shape[0]), range(cnf_matrix.shape[1])):\n",
        "        if numbers_type == 'numbers_and_percentage':\n",
        "            st1 = '{:.2f}%'.format(100 * cnf_matrix_normalized[i, j])\n",
        "            st2 = '({:2d})'.format(cnf_matrix[i, j])\n",
        "            plt.text(j, i, st1+st2,\n",
        "                     horizontalalignment=\"center\", verticalalignment='bottom',\n",
        "                     color=\"white\" if cnf_matrix[i, j] > thresh else \"black\")\n",
        "\n",
        "        elif numbers_type == 'percentage':\n",
        "            fmt = '.2f'\n",
        "            plt.text(j, i, format(cnf_matrix_normalized[i, j], fmt),\n",
        "                     horizontalalignment=\"center\", verticalalignment='bottom',\n",
        "                     color=\"white\" if cnf_matrix[i, j] > thresh else \"black\")\n",
        "        else:\n",
        "            fmt = 'd'\n",
        "            plt.text(j, i, format(cnf_matrix[i, j], fmt),\n",
        "                     horizontalalignment=\"center\", verticalalignment='bottom',\n",
        "                     color=\"white\" if cnf_matrix[i, j] > thresh else \"black\")\n",
        "\n",
        "    plt.tight_layout()\n",
        "    plt.ylabel('True label')\n",
        "    plt.xlabel('Predicted label')\n",
        "    #fig = plt.gcf()\n",
        "    plt.savefig(file_name)\n",
        "\n",
        "    return"
      ],
      "metadata": {
        "id": "ZlTTvT8-3TCW"
      },
      "execution_count": null,
      "outputs": []
    },
    {
      "cell_type": "markdown",
      "metadata": {
        "id": "eHfDrTlVCw42"
      },
      "source": [
        "Data and pre-process\n",
        "----"
      ]
    },
    {
      "cell_type": "code",
      "metadata": {
        "id": "nNDYm3AAgK1z"
      },
      "source": [
        "# load data from xls/csv file\n",
        "dataset = pd.read_csv(\"/content/drive/MyDrive/Project_A/Project_A_files/processed_data_for_final_classification_REDUCTION_BY_RECORDING.csv\", header=None)\n",
        "# dataset.info()\n",
        "\n",
        "X = dataset.iloc[:,:-1]\n",
        "y = dataset.iloc[:,-1]"
      ],
      "execution_count": null,
      "outputs": []
    },
    {
      "cell_type": "code",
      "metadata": {
        "id": "eo9dlYuAgQzC"
      },
      "source": [
        "# pre-process data:\n",
        "  # normalize - different magnitudes between features (!!!)\n",
        "\n",
        "# print(X.iloc[0,0:5])\n",
        "# scaler = StandardScaler().fit(X)\n",
        "# print(scaler.mean_)\n",
        "# print(scaler.var_)\n",
        "# print(scaler.scale_)\n",
        "# X_scaled = scaler.transform(X)\n",
        "# print(X_scaled[0,0:5])"
      ],
      "execution_count": null,
      "outputs": []
    },
    {
      "cell_type": "markdown",
      "metadata": {
        "id": "b4MC-q7INeAB"
      },
      "source": [
        "XGBoost - useful sources:\n",
        "------------\n",
        "✅ 1. https://towardsdatascience.com/running-xgboost-on-google-colab-free-gpu-a-case-study-841c90fef101\n",
        "\n",
        "2. https://towardsdatascience.com/ensemble-learning-and-model-interpretability-a-case-study-95141d75a96c\n",
        "\n",
        "✅3. https://towardsdatascience.com/https-medium-com-vishalmorde-xgboost-algorithm-long-she-may-rein-edd9f99be63d\n",
        "- good conceptual explanation of the evolution of decision trees and XGBoost\n",
        "\n",
        "✅4. https://towardsdatascience.com/a-beginners-guide-to-xgboost-87f5d4c30ed7\n",
        "- Gradient boosting for decision trees:\n",
        "  - ensemble method, iteratively creating new trees, each focused on correcting the previous tree's mistakes (each model is trained on the so-far model's errors).\n",
        "\n",
        "\n",
        "5. https://towardsdatascience.com/a-journey-through-xgboost-milestone-2-f3410109be5a\n",
        "6. Official XGBoost website: https://xgboost.readthedocs.io/en/latest/parameter.html\n",
        "\n",
        "✅7. Tune Learning Rate for Gradient Boosting - https://machinelearningmastery.com/tune-learning-rate-for-gradient-boosting-with-xgboost-in-python/"
      ]
    },
    {
      "cell_type": "markdown",
      "metadata": {
        "id": "TypoivVG9YD5"
      },
      "source": [
        "run XGBoost\n",
        "---"
      ]
    },
    {
      "cell_type": "code",
      "metadata": {
        "colab": {
          "base_uri": "https://localhost:8080/",
          "height": 1000
        },
        "id": "zdkM_3ZvjXZn",
        "outputId": "cebd7ead-2bed-4a11-cfaf-ab9bf1c5df6c"
      },
      "source": [
        "seed = 100\n",
        "\n",
        "# split the clean_X into train and test sets\n",
        "X_train, X_test, y_train, y_test = train_test_split(X, y, test_size=0.2, random_state=seed, shuffle=True)\n",
        "\n",
        "import time\n",
        "from xgboost import XGBClassifier\n",
        "# create an XGBoost classifier\n",
        "model = XGBClassifier(n_estimators=50, random_state=seed, learning_rate=0.1, max_depth=5, objective='binary:logistic', booster='gbtree', feval='rmsle',\n",
        "                      subsample= 1, reg_lambda = 1.5, gamma = 0.3, reg_alpha = 0.05, min_child_weight = 1, scale_pos_weight = 1, colsample_bytree = 0.6)\n",
        "# ARCHIVE: 87% accuracy was reached with: (n_estimators=50, random_state=seed, learning_rate=0.1, max_depth=5, objective='binary:logistic', booster='gbtree', feval='rmsle',\n",
        "                      # subsample= 1, reg_lambda = 1.5, gamma = 0.3, reg_alpha = 0.05, min_child_weight = 1, scale_pos_weight = 1, colsample_bytree = 0.6)\n",
        "\n",
        "# define the eval set and metric\n",
        "eval_set = [(X_train, y_train), (X_test, y_test)]\n",
        "eval_metric = [\"auc\",\"error\"]\n",
        "\n",
        "# fit the model\n",
        "%time\n",
        "model.fit(X_train, y_train, eval_metric=eval_metric, eval_set=eval_set, verbose=False)\n",
        "\n",
        "\n",
        "\n",
        "from sklearn.metrics import accuracy_score\n",
        "from sklearn.metrics import classification_report\n",
        "# model assessment\n",
        "pred_train = model.predict(X_train)\n",
        "print('Train Accuracy: ', accuracy_score(y_train, pred_train))\n",
        "\n",
        "pred_test = model.predict(X_test)\n",
        "print('Test Accuracy: ', accuracy_score(y_test, pred_test))\n",
        "\n",
        "print('Classification Report:')\n",
        "print(classification_report(y_test,pred_test,zero_division=0))\n",
        "\n",
        "\n",
        "\n",
        "# CHECK ACCURACY MANUALLY TO BE SURE AND LOOK AT SOME RESULTS:\n",
        "# print('calculate accuracy manually:', '\\n')\n",
        "# print('accuracy vec: ', accuracy_vec, 'true labels: ', y_test)\n",
        "# train_accuracy_vec = pred_train == y_train\n",
        "# test_accuracy_vec = pred_test == y_test\n",
        "# print('train test accuracy is:', np.round(train_accuracy_vec.sum()/len(train_accuracy_vec), 3))\n",
        "# print('manual test accuracy is:', np.round(test_accuracy_vec.sum()/len(test_accuracy_vec), 3))\n",
        "\n",
        "\n",
        "\n",
        "# retrieve performance metrics and plot AUC-ROC and classification error\n",
        "results = model.evals_result()\n",
        "epochs = len(results['validation_0']['error'])\n",
        "x_axis = range(0, epochs)\n",
        "fig, ax = plt.subplots(1, 2, figsize=(15,5))\n",
        "# plot auc\n",
        "ax[0].plot(x_axis, results['validation_0']['auc'], label='Train')\n",
        "ax[0].plot(x_axis, results['validation_1']['auc'], label='Test')\n",
        "ax[0].legend()\n",
        "ax[0].set_title('XGBoost AUC-ROC')\n",
        "ax[0].set_ylabel('AUC-ROC')\n",
        "ax[0].set_xlabel('N estimators')\n",
        "# plot classification error\n",
        "ax[1].plot(x_axis, results['validation_0']['error'], label='Train')\n",
        "ax[1].plot(x_axis, results['validation_1']['error'], label='Test')\n",
        "ax[1].legend()\n",
        "ax[1].set_title('XGBoost Classification Error')\n",
        "ax[1].set_ylabel('Classification Error')\n",
        "ax[1].set_xlabel('N estimators')\n",
        "plt.show()\n",
        "plt.tight_layout()\n",
        "\n",
        "# show confusion matrix\n",
        "from sklearn.metrics import confusion_matrix\n",
        "print('\\n Confusion Matrix:')\n",
        "print(confusion_matrix(y_test,pred_test))\n",
        "plot_confusion_matrix(confusion_matrix(y_test,pred_test))\n",
        "\n",
        "\n",
        "\n",
        "# plot specific trees\n",
        "plt.rcParams['figure.figsize'] = [15, 10]\n",
        "# xgb.plot_tree(model,num_trees=0, rankdir='LR')\n",
        "# xgb.plot_tree(model,num_trees=1, rankdir='LR')\n",
        "# xgb.plot_tree(model,num_trees=31, rankdir='LR')\n",
        "\n",
        "\n",
        "# SAVE MODEL TO FILE\n",
        "import pickle\n",
        "file_name = \"XGBmodel_051221.pkl\"\n",
        "# save\n",
        "pickle.dump(model, open(file_name, \"wb\"))\n",
        "!cp \"XGBmodel_051221.pkl\" /content/drive/MyDrive/Project_A/Project_A_files"
      ],
      "execution_count": null,
      "outputs": [
        {
          "output_type": "stream",
          "name": "stdout",
          "text": [
            "CPU times: user 3 µs, sys: 0 ns, total: 3 µs\n",
            "Wall time: 5.72 µs\n",
            "Train Accuracy:  0.9212328767123288\n",
            "Test Accuracy:  0.8775510204081632\n",
            "Classification Report:\n",
            "              precision    recall  f1-score   support\n",
            "\n",
            "         0.0       0.84      0.67      0.74        39\n",
            "         1.0       0.89      0.95      0.92       108\n",
            "\n",
            "    accuracy                           0.88       147\n",
            "   macro avg       0.86      0.81      0.83       147\n",
            "weighted avg       0.87      0.88      0.87       147\n",
            "\n"
          ]
        },
        {
          "output_type": "display_data",
          "data": {
            "image/png": "[encoded data removed]",
            "text/plain": [
              "<Figure size 1080x360 with 2 Axes>"
            ]
          },
          "metadata": {
            "needs_background": "light"
          }
        },
        {
          "output_type": "stream",
          "name": "stdout",
          "text": [
            "\n",
            " Confusion Matrix:\n",
            "[[ 26  13]\n",
            " [  5 103]]\n"
          ]
        },
        {
          "output_type": "display_data",
          "data": {
            "text/plain": [
              "<Figure size 1080x720 with 0 Axes>"
            ]
          },
          "metadata": {}
        },
        {
          "output_type": "display_data",
          "data": {
            "image/png": "[encoded data removed]",
            "text/plain": [
              "<Figure size 1080x720 with 2 Axes>"
            ]
          },
          "metadata": {
            "needs_background": "light"
          }
        }
      ]
    },
    {
      "cell_type": "code",
      "metadata": {
        "id": "9BO0jIKn6qOM",
        "colab": {
          "base_uri": "https://localhost:8080/",
          "height": 730
        },
        "outputId": "19a9da45-993c-4930-f62e-e4be7d5ce315"
      },
      "source": [
        "# PLOT FEATURE IMPORTANCE - MANUALLY\n",
        "print(model.feature_importances_)\n",
        "\n",
        "import matplotlib.pyplot as plt\n",
        "# plot\n",
        "plt.bar(range(len(model.feature_importances_)), model.feature_importances_)\n",
        "plt.show()"
      ],
      "execution_count": null,
      "outputs": [
        {
          "output_type": "stream",
          "name": "stdout",
          "text": [
            "[0.03272169 0.03046442 0.03171818 0.         0.         0.\n",
            " 0.03015655 0.02911038 0.04069538 0.0232439  0.03144278 0.02187895\n",
            " 0.04015641 0.02905885 0.         0.01490815 0.04688367 0.02964837\n",
            " 0.03421994 0.         0.02931977 0.01948835 0.02996822 0.\n",
            " 0.         0.         0.03008797 0.04017125 0.04724581 0.0275905\n",
            " 0.         0.         0.         0.         0.         0.\n",
            " 0.         0.         0.         0.         0.1784529  0.10234742\n",
            " 0.02902021]\n"
          ]
        },
        {
          "output_type": "display_data",
          "data": {
            "image/png": "[encoded data removed]",
            "text/plain": [
              "<Figure size 1080x720 with 1 Axes>"
            ]
          },
          "metadata": {
            "needs_background": "light"
          }
        }
      ]
    },
    {
      "cell_type": "code",
      "metadata": {
        "id": "Z9IKdlJ4aeXx",
        "colab": {
          "base_uri": "https://localhost:8080/",
          "height": 369
        },
        "outputId": "8e6c8b68-3b8d-464c-edb0-082742c6a617"
      },
      "source": [
        "# PLOT FEATURE IMPORTANCE:\n",
        "\n",
        "fig, ax = plt.subplots(1, 3, figsize=(15,5))\n",
        "# plot importances with feature weight\n",
        "\n",
        "xgb.plot_importance(\n",
        "    booster=model, \n",
        "    importance_type='weight',\n",
        "    title='Feature Weight',\n",
        "    show_values=False,\n",
        "    height=0.5,\n",
        "    ax=ax[0]\n",
        ")\n",
        "# plot importances with split mean gain\n",
        "xgb.plot_importance(\n",
        "    booster=model,\n",
        "    importance_type='gain',\n",
        "    title='Split Mean Gain',\n",
        "    show_values=False,\n",
        "    height=0.5,\n",
        "    ax=ax[1]\n",
        ")\n",
        "# plot importances with sample coverage\n",
        "xgb.plot_importance(\n",
        "    model,\n",
        "    importance_type='cover',\n",
        "    title='Sample Coverage',\n",
        "    show_values=False,\n",
        "    height=0.5,\n",
        "    ax=ax[2]\n",
        ")\n",
        "plt.tight_layout()\n",
        "plt.show()"
      ],
      "execution_count": null,
      "outputs": [
        {
          "output_type": "display_data",
          "data": {
            "image/png": "[encoded data removed]",
            "text/plain": [
              "<Figure size 1080x360 with 3 Axes>"
            ]
          },
          "metadata": {
            "needs_background": "light"
          }
        }
      ]
    },
    {
      "cell_type": "markdown",
      "metadata": {
        "id": "Hcmi76--0PVH"
      },
      "source": [
        "***by using GridSearch (archived below):***\n",
        "\n",
        "Best model: {'subsample': 0.8, 'reg_lambda': 1, 'n_estimators': 300, 'max_depth': 4, 'learning_rate': 0.1, 'gamma': 0, 'colsample_bytree': 0.6}"
      ]
    },
    {
      "cell_type": "markdown",
      "metadata": {
        "id": "YxcNOWek83JA"
      },
      "source": [
        "ARCHIVE - USING GRIDSEARCH TO FIND BEST HYPER-PARAMETERS\n",
        "---"
      ]
    },
    {
      "cell_type": "code",
      "metadata": {
        "id": "BrpSpOfCyU_i",
        "colab": {
          "base_uri": "https://localhost:8080/",
          "height": 721
        },
        "outputId": "0d55638b-be7e-4667-8d6c-ab5e0ca0eebc"
      },
      "source": [
        "#---------------------------------------------------------\n",
        "\n",
        "# create a default XGBoost classifier\n",
        "from sklearn.metrics import make_scorer\n",
        "seed = 1000\n",
        "model = XGBClassifier(\n",
        "    random_state=seed, \n",
        "    eval_metric=[\"error\", \"auc\"]\n",
        ")\n",
        "# Create the grid search parameter grid and scoring funcitons\n",
        "param_grid = {\n",
        "    \"learning_rate\": [1, 0.5,0.1, 0.01, 0.001],\n",
        "    \"colsample_bytree\": [0.6, 0.8, 1.0],\n",
        "    \"subsample\": [0.6, 0.8, 1.0],\n",
        "    \"max_depth\": [2, 3, 4, 5, 10],\n",
        "    \"n_estimators\": [25, 50, 100, 200, 300, 400, 500],\n",
        "    \"reg_lambda\": [1, 1.5, 2],\n",
        "    \"gamma\": [0, 0.1, 0.3],\n",
        "    \"reg_alpha\": [0.005, 0.01, 0.05, 0.1, 0.5],\n",
        "    \"colsample_bytree\": [0.4, 0.6, 0.8, 1]\n",
        "}\n",
        "\n",
        "scoring = {\n",
        "    'AUC': 'roc_auc',\n",
        "     'Accuracy': make_scorer(accuracy_score)\n",
        "}\n",
        "# create the Kfold object\n",
        "from sklearn.model_selection import StratifiedKFold\n",
        "from sklearn.model_selection import RandomizedSearchCV\n",
        "num_folds = 5\n",
        "kfold = StratifiedKFold(n_splits=num_folds)#, random_state=seed)\n",
        "# create the grid search object\n",
        "n_iter=50\n",
        "grid = RandomizedSearchCV(\n",
        "    estimator=model, \n",
        "    param_distributions=param_grid,\n",
        "    cv=kfold,\n",
        "    scoring=scoring,\n",
        "    n_jobs=-1,\n",
        "    n_iter=n_iter,\n",
        "    refit=\"AUC\",\n",
        ")\n",
        "# fit grid search\n",
        "%time best_model = grid.fit(X_train,y_train)\n",
        "from sklearn.metrics import confusion_matrix\n",
        "\n",
        "print(f'Best score: {best_model.best_score_}')\n",
        "print(f'Best model: {best_model.best_params_}')\n",
        "\n",
        "pred_test = best_model.predict(X_test)\n",
        "pred_train = best_model.predict(X_train)\n",
        "print('Train Accuracy: ', accuracy_score(y_train, pred_train))\n",
        "print('Test Accuraccy: ', accuracy_score(y_test, pred_test))\n",
        "print('\\nConfusion Matrix:')\n",
        "print(confusion_matrix(y_test,pred_test))\n",
        "print('\\nClassification Report:')\n",
        "print(classification_report(y_test,pred_test))\n",
        "\n",
        "# store the winning model in a new variable\n",
        "xgc = best_model.best_estimator_\n",
        "# saving the feature names to the model\n",
        "xgc.get_booster().feature_names = X.columns.to_list()\n",
        "# PLOT FEATURE IMPORTANCE:\n",
        "# # Create the feature importances plot\n",
        "# fig, ax = plt.subplots(1, 3, figsize=(15,5))\n",
        "# # plot importances with feature weight\n",
        "# xgb.plot_importance(\n",
        "#     booster=xgc, \n",
        "#     importance_type='weight',\n",
        "#     title='Feature Weight',\n",
        "#     show_values=False,\n",
        "#     height=0.5,\n",
        "#     ax=ax[0],\n",
        "# )\n",
        "# # plot importances with split mean gain\n",
        "# xgb.plot_importance(\n",
        "#     booster=xgc,\n",
        "#     importance_type='gain',\n",
        "#     title='Split Mean Gain',\n",
        "#     show_values=False,\n",
        "#     height=0.5,\n",
        "#     ax=ax[1]\n",
        "# )\n",
        "# # plot importances with sample coverage\n",
        "# xgb.plot_importance(\n",
        "#     xgc,\n",
        "#     importance_type='cover',\n",
        "#     title='Sample Coverage',\n",
        "#     show_values=False,\n",
        "#     height=0.5,\n",
        "#     ax=ax[2]\n",
        "# )\n",
        "# plt.tight_layout()\n",
        "# plt.show()\n",
        "\n",
        "\n",
        "# TAKEN FROM EXAMPLE WITHOUT GRID SEARCH:\n",
        "# retrieve performance metrics\n",
        "results = xgc.evals_result()\n",
        "epochs = len(results['validation_0']['error'])\n",
        "x_axis = range(0, epochs)\n",
        "fig, ax = plt.subplots(1, 2, figsize=(15,5))\n",
        "# plot auc\n",
        "ax[0].plot(x_axis, results['validation_0']['auc'], label='Train')\n",
        "ax[0].plot(x_axis, results['validation_1']['auc'], label='Test')\n",
        "ax[0].legend()\n",
        "ax[0].set_title('XGBoost AUC-ROC')\n",
        "ax[0].set_ylabel('AUC-ROC')\n",
        "ax[0].set_xlabel('N estimators')\n",
        "# plot classification error\n",
        "ax[1].plot(x_axis, results['validation_0']['error'], label='Train')\n",
        "ax[1].plot(x_axis, results['validation_1']['error'], label='Test')\n",
        "ax[1].legend()\n",
        "ax[1].set_title('XGBoost Classification Error')\n",
        "ax[1].set_ylabel('Classification Error')\n",
        "ax[1].set_xlabel('N estimators')\n",
        "plt.show()\n",
        "plt.tight_layout()\n",
        "\n",
        "\n",
        "# plot a decision tree from the booster\n",
        "xgb.plot_tree(booster=xgc, num_trees=0, ax=ax, rankdir='LR')\n",
        "plt.tight_layout()\n",
        "plt.show()"
      ],
      "execution_count": null,
      "outputs": [
        {
          "output_type": "stream",
          "name": "stdout",
          "text": [
            "CPU times: user 1.75 s, sys: 118 ms, total: 1.87 s\n",
            "Wall time: 44.6 s\n",
            "Best score: 0.8017015036245805\n",
            "Best model: {'subsample': 0.8, 'reg_lambda': 1.5, 'reg_alpha': 0.05, 'n_estimators': 100, 'max_depth': 4, 'learning_rate': 0.01, 'gamma': 0.3, 'colsample_bytree': 0.8}\n",
            "Train Accuracy:  0.8082191780821918\n",
            "Test Accuraccy:  0.8503401360544217\n",
            "\n",
            "Confusion Matrix:\n",
            "[[ 20  19]\n",
            " [  3 105]]\n",
            "\n",
            "Classification Report:\n",
            "              precision    recall  f1-score   support\n",
            "\n",
            "         0.0       0.87      0.51      0.65        39\n",
            "         1.0       0.85      0.97      0.91       108\n",
            "\n",
            "    accuracy                           0.85       147\n",
            "   macro avg       0.86      0.74      0.78       147\n",
            "weighted avg       0.85      0.85      0.84       147\n",
            "\n"
          ]
        },
        {
          "output_type": "error",
          "ename": "AttributeError",
          "evalue": "ignored",
          "traceback": [
            "\u001b[0;31m---------------------------------------------------------------------------\u001b[0m",
            "\u001b[0;31mAttributeError\u001b[0m                            Traceback (most recent call last)",
            "\u001b[0;32m<ipython-input-30-af87733bb21a>\u001b[0m in \u001b[0;36m<module>\u001b[0;34m()\u001b[0m\n\u001b[1;32m     97\u001b[0m \u001b[0;31m# TAKEN FROM EXAMPLE WITHOUT GRID SEARCH:\u001b[0m\u001b[0;34m\u001b[0m\u001b[0;34m\u001b[0m\u001b[0;34m\u001b[0m\u001b[0m\n\u001b[1;32m     98\u001b[0m \u001b[0;31m# retrieve performance metrics\u001b[0m\u001b[0;34m\u001b[0m\u001b[0;34m\u001b[0m\u001b[0;34m\u001b[0m\u001b[0m\n\u001b[0;32m---> 99\u001b[0;31m \u001b[0mresults\u001b[0m \u001b[0;34m=\u001b[0m \u001b[0mxgc\u001b[0m\u001b[0;34m.\u001b[0m\u001b[0mevals_result\u001b[0m\u001b[0;34m(\u001b[0m\u001b[0;34m)\u001b[0m\u001b[0;34m\u001b[0m\u001b[0;34m\u001b[0m\u001b[0m\n\u001b[0m\u001b[1;32m    100\u001b[0m \u001b[0mepochs\u001b[0m \u001b[0;34m=\u001b[0m \u001b[0mlen\u001b[0m\u001b[0;34m(\u001b[0m\u001b[0mresults\u001b[0m\u001b[0;34m[\u001b[0m\u001b[0;34m'validation_0'\u001b[0m\u001b[0;34m]\u001b[0m\u001b[0;34m[\u001b[0m\u001b[0;34m'error'\u001b[0m\u001b[0;34m]\u001b[0m\u001b[0;34m)\u001b[0m\u001b[0;34m\u001b[0m\u001b[0;34m\u001b[0m\u001b[0m\n\u001b[1;32m    101\u001b[0m \u001b[0mx_axis\u001b[0m \u001b[0;34m=\u001b[0m \u001b[0mrange\u001b[0m\u001b[0;34m(\u001b[0m\u001b[0;36m0\u001b[0m\u001b[0;34m,\u001b[0m \u001b[0mepochs\u001b[0m\u001b[0;34m)\u001b[0m\u001b[0;34m\u001b[0m\u001b[0;34m\u001b[0m\u001b[0m\n",
            "\u001b[0;32m/usr/local/lib/python3.7/dist-packages/xgboost/sklearn.py\u001b[0m in \u001b[0;36mevals_result\u001b[0;34m(self)\u001b[0m\n\u001b[1;32m    874\u001b[0m             'validation_1': {'logloss': ['0.41965', '0.17686']}}\n\u001b[1;32m    875\u001b[0m         \"\"\"\n\u001b[0;32m--> 876\u001b[0;31m         \u001b[0;32mif\u001b[0m \u001b[0mself\u001b[0m\u001b[0;34m.\u001b[0m\u001b[0mevals_result_\u001b[0m\u001b[0;34m:\u001b[0m\u001b[0;34m\u001b[0m\u001b[0;34m\u001b[0m\u001b[0m\n\u001b[0m\u001b[1;32m    877\u001b[0m             \u001b[0mevals_result\u001b[0m \u001b[0;34m=\u001b[0m \u001b[0mself\u001b[0m\u001b[0;34m.\u001b[0m\u001b[0mevals_result_\u001b[0m\u001b[0;34m\u001b[0m\u001b[0;34m\u001b[0m\u001b[0m\n\u001b[1;32m    878\u001b[0m         \u001b[0;32melse\u001b[0m\u001b[0;34m:\u001b[0m\u001b[0;34m\u001b[0m\u001b[0;34m\u001b[0m\u001b[0m\n",
            "\u001b[0;31mAttributeError\u001b[0m: 'XGBClassifier' object has no attribute 'evals_result_'"
          ]
        }
      ]
    },
    {
      "cell_type": "markdown",
      "metadata": {
        "id": "ayH6q7IXAEJk"
      },
      "source": [
        "ARCHIVE - TUNE LEARNING RATE (from source 7)\n",
        "---"
      ]
    },
    {
      "cell_type": "code",
      "metadata": {
        "id": "xRW1h1V9_7-4"
      },
      "source": [
        "# # XGBoost on Otto dataset, Tune learning_rate and n_estimators\n",
        "# from pandas import read_csv\n",
        "# from xgboost import XGBClassifier\n",
        "# from sklearn.model_selection import GridSearchCV\n",
        "# from sklearn.model_selection import StratifiedKFold\n",
        "# from sklearn.preprocessing import LabelEncoder\n",
        "# import matplotlib\n",
        "# matplotlib.use('Agg')\n",
        "# from matplotlib import pyplot\n",
        "# import numpy\n",
        "# # load data\n",
        "# # data = read_csv('train.csv')\n",
        "# # dataset = data.values\n",
        "# # # split data into X and y\n",
        "# # X = dataset[:,0:94]\n",
        "# # y = dataset[:,94]\n",
        "# # encode string class values as integers\n",
        "# label_encoded_y = LabelEncoder().fit_transform(y)\n",
        "# # grid search\n",
        "# model = XGBClassifier()\n",
        "# n_estimators = [100, 200, 300, 400, 500]\n",
        "# learning_rate = [0.0001, 0.001, 0.01, 0.1]\n",
        "# param_grid = dict(learning_rate=learning_rate, n_estimators=n_estimators)\n",
        "# kfold = StratifiedKFold(n_splits=10, shuffle=True, random_state=7)\n",
        "# grid_search = GridSearchCV(model, param_grid, scoring=\"neg_log_loss\", n_jobs=-1, cv=kfold)\n",
        "# grid_result = grid_search.fit(X, label_encoded_y)\n",
        "# # summarize results\n",
        "# print(\"Best: %f using %s\" % (grid_result.best_score_, grid_result.best_params_))\n",
        "# means = grid_result.cv_results_['mean_test_score']\n",
        "# stds = grid_result.cv_results_['std_test_score']\n",
        "# params = grid_result.cv_results_['params']\n",
        "# for mean, stdev, param in zip(means, stds, params):\n",
        "# \tprint(\"%f (%f) with: %r\" % (mean, stdev, param))\n",
        "# # plot results\n",
        "# scores = numpy.array(means).reshape(len(learning_rate), len(n_estimators))\n",
        "# for i, value in enumerate(learning_rate):\n",
        "#     pyplot.plot(n_estimators, scores[i], label='learning_rate: ' + str(value))\n",
        "# pyplot.legend()\n",
        "# pyplot.xlabel('n_estimators')\n",
        "# pyplot.ylabel('Log Loss')\n",
        "# pyplot.savefig('n_estimators_vs_learning_rate.png')"
      ],
      "execution_count": null,
      "outputs": []
    }
  ]
}