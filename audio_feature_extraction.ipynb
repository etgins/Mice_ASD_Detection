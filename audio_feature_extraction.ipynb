{
  "nbformat": 4,
  "nbformat_minor": 0,
  "metadata": {
    "colab": {
      "name": "audio_feature_extraction.ipynb",
      "provenance": [],
      "collapsed_sections": [],
      "include_colab_link": true
    },
    "kernelspec": {
      "name": "python3",
      "display_name": "Python 3"
    },
    "language_info": {
      "name": "python"
    }
  },
  "cells": [
    {
      "cell_type": "markdown",
      "metadata": {
        "id": "view-in-github",
        "colab_type": "text"
      },
      "source": [
        "<a href=\"https://colab.research.google.com/github/etgins/Mice_ASD_Detection/blob/main/audio_feature_extraction.ipynb\" target=\"_parent\"><img src=\"https://colab.research.google.com/assets/colab-badge.svg\" alt=\"Open In Colab\"/></a>"
      ]
    },
    {
      "cell_type": "markdown",
      "metadata": {
        "id": "3YA25Z9BUZPM"
      },
      "source": [
        "----------------------------------------------\n",
        "Written by Itamar Ginsberg & Alon Schreuer, October 2021\n",
        "\n"
      ]
    },
    {
      "cell_type": "markdown",
      "metadata": {
        "id": "T4POWW7dSKd9"
      },
      "source": [
        "# **1. Import data and split labels**\n",
        "\n",
        "---"
      ]
    },
    {
      "cell_type": "code",
      "metadata": {
        "id": "ZGRoMFfM9O1p",
        "colab": {
          "base_uri": "https://localhost:8080/",
          "height": 432
        },
        "outputId": "c9e99733-b2a3-4644-d5b2-0a6458d07673"
      },
      "source": [
        "from google.colab import drive\n",
        "drive.mount('/content/drive')\n",
        "import os\n",
        "import numpy as np\n",
        "\n",
        "# import dataset from xls\n",
        "import pandas as pd\n",
        "dataset = pd.read_excel('/content/drive/MyDrive/Project_A/Project_A_files/total_data UPDATED EM 020821.xlsx')\n",
        "dataset.to_csv (r'/content/drive/MyDrive/Project_A/Project_A_files/total_data UPDATED EM 020821.csv', index = None, header=True)\n",
        "# dataset.dropna(axis = 0, how='any')\n",
        "\n",
        "# extract only the relevant columns / features\n",
        "X = dataset[[\"Name\", \"Start Point (Hz)\", \"End Point (Hz)\", \"Duration (s)\", \"Syllable number\"]]\n",
        "y = dataset[[\"Offspring Genotype\"]]\n",
        "\n",
        "# TODO - clean NaN values from dataset or X\n",
        "X.dropna(axis = 0, how='any')\n",
        "X\n",
        "\n",
        "\n",
        "## TODO - encode text feature values\n",
        "# from sklearn.preprocessing import LabelEncoder\n",
        "# l1 = LabelEncoder()\n",
        "# l1.fit(X['Name'])\n",
        "# dataset.Name = l1.transform(dataset.Name)\n",
        "# dataset\n",
        "\n",
        "# X.describe()"
      ],
      "execution_count": null,
      "outputs": [
        {
          "output_type": "stream",
          "name": "stdout",
          "text": [
            "Drive already mounted at /content/drive; to attempt to forcibly remount, call drive.mount(\"/content/drive\", force_remount=True).\n"
          ]
        },
        {
          "output_type": "execute_result",
          "data": {
            "text/html": [
              "<div>\n",
              "<style scoped>\n",
              "    .dataframe tbody tr th:only-of-type {\n",
              "        vertical-align: middle;\n",
              "    }\n",
              "\n",
              "    .dataframe tbody tr th {\n",
              "        vertical-align: top;\n",
              "    }\n",
              "\n",
              "    .dataframe thead th {\n",
              "        text-align: right;\n",
              "    }\n",
              "</style>\n",
              "<table border=\"1\" class=\"dataframe\">\n",
              "  <thead>\n",
              "    <tr style=\"text-align: right;\">\n",
              "      <th></th>\n",
              "      <th>Name</th>\n",
              "      <th>Start Point (Hz)</th>\n",
              "      <th>End Point (Hz)</th>\n",
              "      <th>Duration (s)</th>\n",
              "      <th>Syllable number</th>\n",
              "    </tr>\n",
              "  </thead>\n",
              "  <tbody>\n",
              "    <tr>\n",
              "      <th>0</th>\n",
              "      <td>17470O</td>\n",
              "      <td>NaN</td>\n",
              "      <td>NaN</td>\n",
              "      <td>NaN</td>\n",
              "      <td>NaN</td>\n",
              "    </tr>\n",
              "    <tr>\n",
              "      <th>1</th>\n",
              "      <td>17470O</td>\n",
              "      <td>57648.8278</td>\n",
              "      <td>45525.0820</td>\n",
              "      <td>00:00:00.059000</td>\n",
              "      <td>3.0</td>\n",
              "    </tr>\n",
              "    <tr>\n",
              "      <th>2</th>\n",
              "      <td>17470O</td>\n",
              "      <td>55558.5268</td>\n",
              "      <td>45525.0820</td>\n",
              "      <td>00:00:00.063000</td>\n",
              "      <td>2.0</td>\n",
              "    </tr>\n",
              "    <tr>\n",
              "      <th>3</th>\n",
              "      <td>17470O</td>\n",
              "      <td>54513.3763</td>\n",
              "      <td>43852.8412</td>\n",
              "      <td>00:00:00.063000</td>\n",
              "      <td>2.0</td>\n",
              "    </tr>\n",
              "    <tr>\n",
              "      <th>4</th>\n",
              "      <td>17470O</td>\n",
              "      <td>55976.5870</td>\n",
              "      <td>43434.7810</td>\n",
              "      <td>00:00:00.060000</td>\n",
              "      <td>2.0</td>\n",
              "    </tr>\n",
              "    <tr>\n",
              "      <th>...</th>\n",
              "      <td>...</td>\n",
              "      <td>...</td>\n",
              "      <td>...</td>\n",
              "      <td>...</td>\n",
              "      <td>...</td>\n",
              "    </tr>\n",
              "    <tr>\n",
              "      <th>4363</th>\n",
              "      <td>17472I</td>\n",
              "      <td>NaN</td>\n",
              "      <td>NaN</td>\n",
              "      <td>NaN</td>\n",
              "      <td>7.0</td>\n",
              "    </tr>\n",
              "    <tr>\n",
              "      <th>4364</th>\n",
              "      <td>17472I</td>\n",
              "      <td>NaN</td>\n",
              "      <td>NaN</td>\n",
              "      <td>NaN</td>\n",
              "      <td>7.0</td>\n",
              "    </tr>\n",
              "    <tr>\n",
              "      <th>4365</th>\n",
              "      <td>17472I</td>\n",
              "      <td>NaN</td>\n",
              "      <td>NaN</td>\n",
              "      <td>NaN</td>\n",
              "      <td>7.0</td>\n",
              "    </tr>\n",
              "    <tr>\n",
              "      <th>4366</th>\n",
              "      <td>17472I</td>\n",
              "      <td>NaN</td>\n",
              "      <td>NaN</td>\n",
              "      <td>NaN</td>\n",
              "      <td>1.0</td>\n",
              "    </tr>\n",
              "    <tr>\n",
              "      <th>4367</th>\n",
              "      <td>17472I</td>\n",
              "      <td>NaN</td>\n",
              "      <td>NaN</td>\n",
              "      <td>NaN</td>\n",
              "      <td>7.0</td>\n",
              "    </tr>\n",
              "  </tbody>\n",
              "</table>\n",
              "<p>4368 rows × 5 columns</p>\n",
              "</div>"
            ],
            "text/plain": [
              "        Name  Start Point (Hz)  ...     Duration (s) Syllable number\n",
              "0     17470O               NaN  ...              NaN             NaN\n",
              "1     17470O        57648.8278  ...  00:00:00.059000             3.0\n",
              "2     17470O        55558.5268  ...  00:00:00.063000             2.0\n",
              "3     17470O        54513.3763  ...  00:00:00.063000             2.0\n",
              "4     17470O        55976.5870  ...  00:00:00.060000             2.0\n",
              "...      ...               ...  ...              ...             ...\n",
              "4363  17472I               NaN  ...              NaN             7.0\n",
              "4364  17472I               NaN  ...              NaN             7.0\n",
              "4365  17472I               NaN  ...              NaN             7.0\n",
              "4366  17472I               NaN  ...              NaN             1.0\n",
              "4367  17472I               NaN  ...              NaN             7.0\n",
              "\n",
              "[4368 rows x 5 columns]"
            ]
          },
          "metadata": {},
          "execution_count": 24
        }
      ]
    },
    {
      "cell_type": "markdown",
      "metadata": {
        "id": "hz5Ehn_USzN5"
      },
      "source": [
        "# **2. Split data for different mice by name - unfinished**\n",
        "\n",
        "---"
      ]
    },
    {
      "cell_type": "code",
      "metadata": {
        "id": "7nw3zPiKFS3M"
      },
      "source": [
        "# split dataset for each mouse\n",
        "\n",
        "def take_data_by_name(name_searched, Data, name_list):\n",
        "  # print(name_list)\n",
        "  ind = name_list == name_searched\n",
        "  # print(ind)\n",
        "  matching_data = Data[ind]\n",
        "  # print(matching_data)\n",
        "  return matching_data\n",
        "\n",
        "\n",
        "# find set of mouse names\n",
        "name_column = dataset[\"Name\"]\n",
        "unique_name_set = set(name_column)\n",
        "unique_name_list = list(unique_name_set)\n",
        "unique_name_list = unique_name_list[1:-1]   # first entry is column name\n",
        "number_of_mice = len(unique_name_list)\n"
      ],
      "execution_count": null,
      "outputs": []
    },
    {
      "cell_type": "markdown",
      "metadata": {
        "id": "6eQ4bDtlTEnT"
      },
      "source": [
        "# **3. Extract features**\n",
        "\n",
        "---"
      ]
    },
    {
      "cell_type": "code",
      "metadata": {
        "id": "holjmiWRS-RF",
        "colab": {
          "base_uri": "https://localhost:8080/"
        },
        "outputId": "051b4f17-b9ae-43d7-c5dc-b57c8161d4b2"
      },
      "source": [
        "## --------------------------------------------------------\n",
        "# TODO - for each mouse, take only data that belongs to it :\n",
        "# note: not yet finished, for now use the data for all mice in X\n",
        "## --------------------------------------------------------\n",
        "\n",
        "## 1. example - for one mouse only:\n",
        "## ------------------------------\n",
        "# idx = 1\n",
        "# mouse_split_data = take_data_by_name(unique_name_list[idx], X, name_column)\n",
        "# print('mouse name:', unique_name_list[idx],', ' 'idx:', idx)\n",
        "# mouse_split_data\n",
        "\n",
        "## 2. trying for all mice:\n",
        "## ---------------------\n",
        "  # final data is made up of: \n",
        "    # avg. start freq. per syllable\n",
        "    # avg. end freq. per syllable\n",
        "    # avg. syllable duration per syllable\n",
        "    # syllable distribution - percentage of each syllable\n",
        "    # Bandwidth - TODO\n",
        "\n",
        "num_of_syllables = 10\n",
        "final_data_size = 4*num_of_syllables\n",
        "  \n",
        "# initialize finalized data variable: mouse_final_data\n",
        "mouse_final_data = np.empty([number_of_mice,final_data_size])\n",
        "\n",
        "\n",
        "for idx in range (1,2): #(number_of_mice):\n",
        "  mouse_split_data = take_data_by_name(unique_name_list[idx], X, name_column)\n",
        "  print('mouse name:', unique_name_list[idx],', ' 'idx:', idx)\n",
        "  # print('matching data:', '\\n',mouse_split_data)\n",
        "\n",
        "  # calculate feature 1 - average start freq for each syllable (Alon)\n",
        "  ## -------------------------------------------\n",
        "\n",
        "  # TODO \n",
        "  # extract all syllables per mouse\n",
        "  # create a dictionay with num of syllable as key and all it's start freqs arrange in list as a value\n",
        "  # for every value in the dictionary compute the average\n",
        "  # to it again in a loop for every mouse such that in the end I'll get an array with num of mouse as a key and the value is the dictionay with the average of start freqs per syllable (*think about better way to arrange the data)\n",
        "  \n",
        "\n",
        "  # extract all syllables per mouse\n",
        "  start_freq = mouse_split_data[\"Start Point (Hz)\"]\n",
        "  # print(start_freq)\n",
        "  \n",
        "\n",
        "  # get the num of each syllable \n",
        "\n",
        "\n",
        "  # calculate feature 2 - average end freq for each syllable (Alon)\n",
        "  ## -------------------------------------------\n",
        "\n",
        "\n",
        "  # calculate feature 3 - syllable distribution (Itamar):\n",
        "  ## -------------------------------------------\n",
        "# get rid of NaN\n",
        "  mouse_split_data = mouse_split_data.dropna(subset=[\"Syllable number\"])\n",
        "\n",
        "# take syll numbers\n",
        "  syllable_num_row = np.transpose(np.array(mouse_split_data[\"Syllable number\"]))\n",
        "  # print(syllable_num_row)\n",
        "\n",
        "# initialize distribution vector\n",
        "  distribution = np.zeros([1,10])\n",
        "  # print(distribution)\n",
        "\n",
        "# increment distribution count\n",
        "  for i in range(len(syllable_num_row)):\n",
        "    # print(\"iteration\", i)\n",
        "    syll = int(syllable_num_row[i])\n",
        "    # print(\"found syllable\", syll)\n",
        "    # print(\"old distribution:\", distribution)\n",
        "    distribution[0,syll] += 1 \n",
        "    # print(\"new distribution:\", distribution)\n",
        "\n",
        "# normalize histogram to distribution\n",
        "  distribution = distribution / distribution.sum()\n",
        "  print(\"final distribution:\", distribution)\n",
        "\n",
        "# transfer results to mouse_final_data\n",
        "  mouse_final_data[idx,21:31] = distribution\n",
        "  print(mouse_final_data[idx,:])\n",
        "\n",
        "\n",
        "  # calculate feature 4 - average syllable duration for each syllable (Alon)\n",
        "  ## -------------------------------------------\n",
        "\n",
        "  # calculate feature 5 - Bandwidth (???) - TODO\n",
        "  ## -------------------------------------------\n",
        "\n"
      ],
      "execution_count": 102,
      "outputs": [
        {
          "output_type": "stream",
          "name": "stdout",
          "text": [
            "mouse name: 08056J , idx: 1\n",
            "final distribution: [[0.         0.07920792 0.01980198 0.06930693 0.         0.\n",
            "  0.         0.27722772 0.26732673 0.28712871]]\n",
            "[6.90616980e-310 6.90616980e-310 6.90616980e-310 6.90616981e-310\n",
            " 6.90616984e-310 6.90616983e-310 6.90616983e-310 6.90616984e-310\n",
            " 6.90616982e-310 6.90616981e-310 6.90616981e-310 6.90616980e-310\n",
            " 6.90616981e-310 6.90616983e-310 6.90616985e-310 6.90616980e-310\n",
            " 6.90616980e-310 6.90616979e-310 6.90616981e-310 6.90616981e-310\n",
            " 0.00000000e+000 0.00000000e+000 7.92079208e-002 1.98019802e-002\n",
            " 6.93069307e-002 0.00000000e+000 0.00000000e+000 0.00000000e+000\n",
            " 2.77227723e-001 2.67326733e-001 2.87128713e-001 6.90616983e-310\n",
            " 6.90616984e-310 6.90616979e-310 6.90616979e-310 6.90616980e-310\n",
            " 6.90616980e-310 6.90616980e-310 6.90616981e-310 6.90616984e-310]\n"
          ]
        }
      ]
    }
  ]
}