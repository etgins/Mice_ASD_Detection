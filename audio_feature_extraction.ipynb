{
  "nbformat": 4,
  "nbformat_minor": 0,
  "metadata": {
    "colab": {
      "name": "audio_feature_extraction.ipynb",
      "provenance": [],
      "collapsed_sections": [],
      "include_colab_link": true
    },
    "kernelspec": {
      "name": "python3",
      "display_name": "Python 3"
    },
    "language_info": {
      "name": "python"
    }
  },
  "cells": [
    {
      "cell_type": "markdown",
      "metadata": {
        "id": "view-in-github",
        "colab_type": "text"
      },
      "source": [
        "<a href=\"https://colab.research.google.com/github/etgins/Mice_ASD_Detection/blob/main/audio_feature_extraction.ipynb\" target=\"_parent\"><img src=\"https://colab.research.google.com/assets/colab-badge.svg\" alt=\"Open In Colab\"/></a>"
      ]
    },
    {
      "cell_type": "code",
      "metadata": {
        "id": "ZGRoMFfM9O1p",
        "colab": {
          "base_uri": "https://localhost:8080/",
          "height": 432
        },
        "outputId": "e7a02507-60f7-413d-c162-6c11ed0111c9"
      },
      "source": [
        "from google.colab import drive\n",
        "drive.mount('/content/drive')\n",
        "import os\n",
        "import numpy as np\n",
        "\n",
        "# import dataset from xls\n",
        "import pandas as pd\n",
        "dataset = pd.read_excel('/content/drive/MyDrive/Project_A/Project_A/total_data UPDATED EM 020821.xlsx')\n",
        "dataset.to_csv (r'/content/drive/MyDrive/Project_A/Project_A/total_data UPDATED EM 020821.csv', index = None, header=True)\n",
        "dataset.dropna(axis = 0, how='any')\n",
        "\n",
        "# extract only the relevant columns / features\n",
        "X = dataset[[\"Name\", \"Start Point (Hz)\", \"End Point (Hz)\", \"Duration (s)\", \"Syllable number\"]]\n",
        "y = dataset[[\"Offspring Genotype\"]]\n",
        "\n",
        "# TODO - clean NaN values from dataset or X\n",
        "X.dropna(axis = 0, how='any')\n",
        "# X\n",
        "\n",
        "\n",
        "## TODO - encode text feature values\n",
        "# from sklearn.preprocessing import LabelEncoder\n",
        "# l1 = LabelEncoder()\n",
        "# l1.fit(X['Name'])\n",
        "# dataset.Name = l1.transform(dataset.Name)\n",
        "# dataset\n",
        "\n",
        "# X.describe()"
      ],
      "execution_count": null,
      "outputs": [
        {
          "output_type": "stream",
          "name": "stdout",
          "text": [
            "Drive already mounted at /content/drive; to attempt to forcibly remount, call drive.mount(\"/content/drive\", force_remount=True).\n"
          ]
        },
        {
          "output_type": "execute_result",
          "data": {
            "text/html": [
              "<div>\n",
              "<style scoped>\n",
              "    .dataframe tbody tr th:only-of-type {\n",
              "        vertical-align: middle;\n",
              "    }\n",
              "\n",
              "    .dataframe tbody tr th {\n",
              "        vertical-align: top;\n",
              "    }\n",
              "\n",
              "    .dataframe thead th {\n",
              "        text-align: right;\n",
              "    }\n",
              "</style>\n",
              "<table border=\"1\" class=\"dataframe\">\n",
              "  <thead>\n",
              "    <tr style=\"text-align: right;\">\n",
              "      <th></th>\n",
              "      <th>Name</th>\n",
              "      <th>Start Point (Hz)</th>\n",
              "      <th>End Point (Hz)</th>\n",
              "      <th>Duration (s)</th>\n",
              "      <th>Syllable number</th>\n",
              "    </tr>\n",
              "  </thead>\n",
              "  <tbody>\n",
              "    <tr>\n",
              "      <th>0</th>\n",
              "      <td>17470O</td>\n",
              "      <td>NaN</td>\n",
              "      <td>NaN</td>\n",
              "      <td>NaN</td>\n",
              "      <td>NaN</td>\n",
              "    </tr>\n",
              "    <tr>\n",
              "      <th>1</th>\n",
              "      <td>17470O</td>\n",
              "      <td>57648.8278</td>\n",
              "      <td>45525.0820</td>\n",
              "      <td>00:00:00.059000</td>\n",
              "      <td>3.0</td>\n",
              "    </tr>\n",
              "    <tr>\n",
              "      <th>2</th>\n",
              "      <td>17470O</td>\n",
              "      <td>55558.5268</td>\n",
              "      <td>45525.0820</td>\n",
              "      <td>00:00:00.063000</td>\n",
              "      <td>2.0</td>\n",
              "    </tr>\n",
              "    <tr>\n",
              "      <th>3</th>\n",
              "      <td>17470O</td>\n",
              "      <td>54513.3763</td>\n",
              "      <td>43852.8412</td>\n",
              "      <td>00:00:00.063000</td>\n",
              "      <td>2.0</td>\n",
              "    </tr>\n",
              "    <tr>\n",
              "      <th>4</th>\n",
              "      <td>17470O</td>\n",
              "      <td>55976.5870</td>\n",
              "      <td>43434.7810</td>\n",
              "      <td>00:00:00.060000</td>\n",
              "      <td>2.0</td>\n",
              "    </tr>\n",
              "    <tr>\n",
              "      <th>...</th>\n",
              "      <td>...</td>\n",
              "      <td>...</td>\n",
              "      <td>...</td>\n",
              "      <td>...</td>\n",
              "      <td>...</td>\n",
              "    </tr>\n",
              "    <tr>\n",
              "      <th>4363</th>\n",
              "      <td>17472I</td>\n",
              "      <td>NaN</td>\n",
              "      <td>NaN</td>\n",
              "      <td>NaN</td>\n",
              "      <td>7.0</td>\n",
              "    </tr>\n",
              "    <tr>\n",
              "      <th>4364</th>\n",
              "      <td>17472I</td>\n",
              "      <td>NaN</td>\n",
              "      <td>NaN</td>\n",
              "      <td>NaN</td>\n",
              "      <td>7.0</td>\n",
              "    </tr>\n",
              "    <tr>\n",
              "      <th>4365</th>\n",
              "      <td>17472I</td>\n",
              "      <td>NaN</td>\n",
              "      <td>NaN</td>\n",
              "      <td>NaN</td>\n",
              "      <td>7.0</td>\n",
              "    </tr>\n",
              "    <tr>\n",
              "      <th>4366</th>\n",
              "      <td>17472I</td>\n",
              "      <td>NaN</td>\n",
              "      <td>NaN</td>\n",
              "      <td>NaN</td>\n",
              "      <td>1.0</td>\n",
              "    </tr>\n",
              "    <tr>\n",
              "      <th>4367</th>\n",
              "      <td>17472I</td>\n",
              "      <td>NaN</td>\n",
              "      <td>NaN</td>\n",
              "      <td>NaN</td>\n",
              "      <td>7.0</td>\n",
              "    </tr>\n",
              "  </tbody>\n",
              "</table>\n",
              "<p>4368 rows × 5 columns</p>\n",
              "</div>"
            ],
            "text/plain": [
              "        Name  Start Point (Hz)  ...     Duration (s) Syllable number\n",
              "0     17470O               NaN  ...              NaN             NaN\n",
              "1     17470O        57648.8278  ...  00:00:00.059000             3.0\n",
              "2     17470O        55558.5268  ...  00:00:00.063000             2.0\n",
              "3     17470O        54513.3763  ...  00:00:00.063000             2.0\n",
              "4     17470O        55976.5870  ...  00:00:00.060000             2.0\n",
              "...      ...               ...  ...              ...             ...\n",
              "4363  17472I               NaN  ...              NaN             7.0\n",
              "4364  17472I               NaN  ...              NaN             7.0\n",
              "4365  17472I               NaN  ...              NaN             7.0\n",
              "4366  17472I               NaN  ...              NaN             1.0\n",
              "4367  17472I               NaN  ...              NaN             7.0\n",
              "\n",
              "[4368 rows x 5 columns]"
            ]
          },
          "metadata": {},
          "execution_count": 67
        }
      ]
    },
    {
      "cell_type": "code",
      "metadata": {
        "colab": {
          "base_uri": "https://localhost:8080/"
        },
        "id": "7nw3zPiKFS3M",
        "outputId": "aa7fc521-a0ab-4ba1-db5c-963c160bb826"
      },
      "source": [
        "# split dataset for each mouse\n",
        "\n",
        "def take_data_by_name(name_searched, Data, name_list):\n",
        "  # print(name_list)\n",
        "  ind = name_list == name_searched\n",
        "  # print(ind)\n",
        "  matching_data = Data[ind]\n",
        "  # print(matching_data)\n",
        "  return matching_data\n",
        "\n",
        "# find set of mouse names\n",
        "name_column = dataset[\"Name\"]\n",
        "unique_name_set = set(name_column)\n",
        "unique_name_list = list(unique_name_set)\n",
        "unique_name_list = unique_name_list[1:-1]   # first entry is column name\n",
        "number_of_mice = len(unique_name_list)\n",
        "\n",
        "## --------------------------------------------------------\n",
        "# TODO - for each mouse, take only data that belongs to it :\n",
        "## --------------------------------------------------------\n",
        "\n",
        "## 1. example - for one mouse only:\n",
        "## ------------------------------\n",
        "# idx = 1\n",
        "# mouse_split_data = take_data_by_name(unique_name_list[idx], X, name_column)\n",
        "# print('mouse name:', unique_name_list[idx],', ' 'idx:', idx)\n",
        "# mouse_split_data\n",
        "\n",
        "## 2. trying for all mice:\n",
        "## ---------------------\n",
        "\n",
        "# final data is made up of: \n",
        "  # avg. start freq. per syllable\n",
        "  # avg. end freq. per syllable\n",
        "  # avg. syllable duration per syllable\n",
        "  # syllable distribution - percentage of each syllable\n",
        "  # Bandwidth - TODO\n",
        "num_of_syllables = 10\n",
        "final_data_size = 4*num_of_syllables\n",
        " \n",
        "# initialize finalized data variable: mouse_final_data\n",
        "mouse_final_data = np.empty([number_of_mice,final_data_size])\n",
        "\n",
        "\n",
        "for idx in range (21,22): # (number_of_mice):\n",
        "  mouse_split_data = take_data_by_name(unique_name_list[idx], X, name_column)\n",
        "  print('mouse name:', unique_name_list[idx],', ' 'idx:', idx)\n",
        "  print('matching data:', '\\n',mouse_split_data)\n",
        "  # calculate feature 1\n",
        "  ## -------------------------------------------\n",
        "\n",
        "  # calculate feature 2\n",
        "  ## -------------------------------------------\n",
        "\n",
        "  # calculate feature 3 - syllable distribution:\n",
        "  ## -------------------------------------------\n",
        "  # df['color_pro'] = df.groupby('color')['color'].transform('count')\n",
        "  # df['color_pro'] = df['color_pro'].map(lambda x : x/len(df))\n",
        "  mouse_split_data['syllable_distribution'] = mouse_split_data.groupby('Syllable number')['Syllable number'].transform('count')\n",
        "    \n",
        "  # calculate feature 4\n",
        "  ## -------------------------------------------\n",
        "\n",
        "  # calculate feature 5\n",
        "  ## -------------------------------------------\n"
      ],
      "execution_count": null,
      "outputs": [
        {
          "output_type": "stream",
          "name": "stdout",
          "text": [
            "mouse name: 08107O , idx: 21\n",
            "matching data: \n",
            "         Name  Start Point (Hz)  ...     Duration (s) Syllable number\n",
            "1064  08107O               NaN  ...              NaN             NaN\n",
            "1065  08107O        61337.7255  ...  00:00:00.059000             3.0\n",
            "1066  08107O        55109.9675  ...  00:00:00.049000             7.0\n",
            "1067  08107O        53775.4480  ...  00:00:00.063000             7.0\n",
            "1068  08107O        58891.1063  ...  00:00:00.058000             3.0\n",
            "1069  08107O        83134.8786  ...  00:00:00.059000             7.0\n",
            "1070  08107O               NaN  ...              NaN             NaN\n",
            "2324  08107O        44270.9014  ...  00:00:00.044000             9.0\n",
            "2325  08107O        56603.6773  ...  00:00:00.066000             7.0\n",
            "2326  08107O        52632.1054  ...  00:00:00.061000             3.0\n",
            "2327  08107O        47615.3830  ...  00:00:00.064000             2.0\n",
            "2328  08107O        76043.4766  ...  00:00:00.035000             4.0\n",
            "2329  08107O        52632.1054  ...  00:00:00.094000             9.0\n",
            "2330  08107O        54722.4064  ...  00:00:00.049000             2.0\n",
            "2331  08107O        53050.1656  ...  00:00:00.046000             9.0\n",
            "2332  08107O        51168.8947  ...  00:00:00.043000             9.0\n",
            "2333  08107O        56185.6171  ...  00:00:00.082000             8.0\n",
            "2334  08107O       156520.0653  ...  00:00:00.173000             3.0\n",
            "2335  08107O        55558.5268  ...  00:00:00.067000             3.0\n",
            "2336  08107O        55558.5268  ...  00:00:00.064000             3.0\n",
            "2337  08107O        54722.4064  ...  00:00:00.063000             3.0\n",
            "2338  08107O        57648.8278  ...  00:00:00.065000             3.0\n",
            "2339  08107O        48869.5636  ...  00:00:00.054000             2.0\n",
            "2340  08107O        47615.3830  ...  00:00:00.050000             9.0\n",
            "2341  08107O        51168.8947  ...  00:00:00.057000             7.0\n",
            "2798  08107O               NaN  ...              NaN             NaN\n",
            "2799  08107O        89421.4030  ...  00:00:00.014000             1.0\n",
            "2800  08107O        63919.7308  ...  00:00:00.060000             7.0\n",
            "2801  08107O        93183.9449  ...  00:00:00.054000             9.0\n",
            "2802  08107O        60157.1890  ...  00:00:00.084000             7.0\n",
            "2803  08107O        55349.4967  ...  00:00:00.064000             9.0\n",
            "2804  08107O        59250.6538  ...  00:00:00.047000             9.0\n",
            "2805  08107O        54748.5352  ...  00:00:00.044000             9.0\n",
            "2806  08107O        77924.7475  ...  00:00:00.030000             1.0\n",
            "2807  08107O        77297.6572  ...  00:00:00.048000             3.0\n",
            "2808  08107O        89003.3428  ...  00:00:00.061000             8.0\n",
            "2809  08107O        90048.4934  ...  00:00:00.037000             7.0\n",
            "2810  08107O               NaN  ...              NaN             NaN\n",
            "3113  08107O               NaN  ...              NaN             NaN\n",
            "3114  08107O        88028.1170  ...  00:00:00.066000             8.0\n",
            "3115  08107O        85803.9177  ...  00:00:00.042000             2.0\n",
            "3116  08107O        89585.0565  ...  00:00:00.008000             1.0\n",
            "3117  08107O       106711.3910  ...  00:00:00.028000             7.0\n",
            "3118  08107O               NaN  ...              NaN             NaN\n",
            "\n",
            "[44 rows x 5 columns]\n"
          ]
        },
        {
          "output_type": "stream",
          "name": "stderr",
          "text": [
            "/usr/local/lib/python3.7/dist-packages/ipykernel_launcher.py:62: SettingWithCopyWarning: \n",
            "A value is trying to be set on a copy of a slice from a DataFrame.\n",
            "Try using .loc[row_indexer,col_indexer] = value instead\n",
            "\n",
            "See the caveats in the documentation: https://pandas.pydata.org/pandas-docs/stable/user_guide/indexing.html#returning-a-view-versus-a-copy\n"
          ]
        }
      ]
    },
    {
      "cell_type": "code",
      "metadata": {
        "id": "JUeG3iJzFpvL"
      },
      "source": [
        "## extract feature 1 - average start freq for each syllable (Alon)\n",
        "\n"
      ],
      "execution_count": null,
      "outputs": []
    },
    {
      "cell_type": "code",
      "metadata": {
        "id": "XZ8dvDzyp9Yq"
      },
      "source": [
        "## extract feature 2 - average end freq for each syllable (Alon)"
      ],
      "execution_count": null,
      "outputs": []
    },
    {
      "cell_type": "code",
      "metadata": {
        "id": "TMID5oJ4p_ce"
      },
      "source": [
        "## extract feature 3 - average syllable duration for each syllable (Alon)"
      ],
      "execution_count": null,
      "outputs": []
    },
    {
      "cell_type": "code",
      "metadata": {
        "colab": {
          "base_uri": "https://localhost:8080/",
          "height": 228
        },
        "id": "AgBoPSUuqEzu",
        "outputId": "3ae48690-3dc0-4605-ffb4-6ee50779fef0"
      },
      "source": [
        "## extract feature 4 - syllable distribution (Itamar)\n",
        "\n",
        "## unchecked \n",
        "num_total_syllables = length(mouse_split_data.Syllable_number) \n",
        "\n",
        "# for mouse:\n",
        "#   for syllable:\n",
        "    \n",
        "\n",
        "# print(\"prediction accuracy: {:.3f}%\".format(np.mean(y_pred == y_test) * 100))"
      ],
      "execution_count": null,
      "outputs": [
        {
          "output_type": "error",
          "ename": "NameError",
          "evalue": "ignored",
          "traceback": [
            "\u001b[0;31m---------------------------------------------------------------------------\u001b[0m",
            "\u001b[0;31mNameError\u001b[0m                                 Traceback (most recent call last)",
            "\u001b[0;32m<ipython-input-40-32e978b6987e>\u001b[0m in \u001b[0;36m<module>\u001b[0;34m()\u001b[0m\n\u001b[1;32m      2\u001b[0m \u001b[0;34m\u001b[0m\u001b[0m\n\u001b[1;32m      3\u001b[0m \u001b[0;31m## unchecked\u001b[0m\u001b[0;34m\u001b[0m\u001b[0;34m\u001b[0m\u001b[0;34m\u001b[0m\u001b[0m\n\u001b[0;32m----> 4\u001b[0;31m \u001b[0mnum_total_syllables\u001b[0m \u001b[0;34m=\u001b[0m \u001b[0mlength\u001b[0m\u001b[0;34m(\u001b[0m\u001b[0mmouse_split_data\u001b[0m\u001b[0;34m.\u001b[0m\u001b[0mSyllable_number\u001b[0m\u001b[0;34m)\u001b[0m\u001b[0;34m\u001b[0m\u001b[0;34m\u001b[0m\u001b[0m\n\u001b[0m\u001b[1;32m      5\u001b[0m \u001b[0;34m\u001b[0m\u001b[0m\n\u001b[1;32m      6\u001b[0m \u001b[0;31m# for mouse:\u001b[0m\u001b[0;34m\u001b[0m\u001b[0;34m\u001b[0m\u001b[0;34m\u001b[0m\u001b[0m\n",
            "\u001b[0;31mNameError\u001b[0m: name 'length' is not defined"
          ]
        }
      ]
    }
  ]
}